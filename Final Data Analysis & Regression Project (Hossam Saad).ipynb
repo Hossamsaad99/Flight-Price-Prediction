{
 "cells": [
  {
   "cell_type": "markdown",
   "id": "2eddb7ee",
   "metadata": {},
   "source": [
    "# ITI - Data Analytics Track \n",
    "### Final Data Analysis & Regression Project\n",
    "#### Flight Price Prediction\n",
    ">* Supervisor: Eng.Amr\n",
    ">* By: Eng.Hossam Saad\n",
    ">* [LinkedIn](https://www.linkedin.com/in/hossam-saad-396108172/)"
   ]
  },
  {
   "cell_type": "markdown",
   "id": "f25c9639",
   "metadata": {},
   "source": [
    "### Required Libraries"
   ]
  },
  {
   "cell_type": "code",
   "execution_count": 1,
   "id": "fc191f30",
   "metadata": {},
   "outputs": [],
   "source": [
    "import numpy as np\n",
    "import pandas as pd\n",
    "import matplotlib.pyplot as plt \n",
    "import seaborn as sns\n",
    "%matplotlib inline\n",
    "# plt.style.use('seaborn') #ggplot\n",
    "import warnings\n",
    "warnings.filterwarnings(\"ignore\")\n",
    "from sklearn.preprocessing import LabelEncoder\n",
    "from sklearn.model_selection import train_test_split\n",
    "from sklearn.preprocessing import MinMaxScaler\n",
    "from sklearn.metrics import mean_squared_error, mean_absolute_error\n",
    "from sklearn import metrics\n",
    "from sklearn.linear_model import LinearRegression\n",
    "from sklearn.ensemble import RandomForestRegressor"
   ]
  },
  {
   "cell_type": "markdown",
   "id": "07404531",
   "metadata": {},
   "source": [
    "### Data Cleansing"
   ]
  },
  {
   "cell_type": "code",
   "execution_count": 2,
   "id": "fa17e0dc",
   "metadata": {},
   "outputs": [
    {
     "data": {
      "text/html": [
       "<div>\n",
       "<style scoped>\n",
       "    .dataframe tbody tr th:only-of-type {\n",
       "        vertical-align: middle;\n",
       "    }\n",
       "\n",
       "    .dataframe tbody tr th {\n",
       "        vertical-align: top;\n",
       "    }\n",
       "\n",
       "    .dataframe thead th {\n",
       "        text-align: right;\n",
       "    }\n",
       "</style>\n",
       "<table border=\"1\" class=\"dataframe\">\n",
       "  <thead>\n",
       "    <tr style=\"text-align: right;\">\n",
       "      <th></th>\n",
       "      <th>Airline</th>\n",
       "      <th>Date_of_Journey</th>\n",
       "      <th>Source</th>\n",
       "      <th>Destination</th>\n",
       "      <th>Route</th>\n",
       "      <th>Dep_Time</th>\n",
       "      <th>Arrival_Time</th>\n",
       "      <th>Duration</th>\n",
       "      <th>Total_Stops</th>\n",
       "      <th>Additional_Info</th>\n",
       "      <th>Price</th>\n",
       "    </tr>\n",
       "  </thead>\n",
       "  <tbody>\n",
       "    <tr>\n",
       "      <th>0</th>\n",
       "      <td>IndiGo</td>\n",
       "      <td>2019-03-24</td>\n",
       "      <td>Banglore</td>\n",
       "      <td>New Delhi</td>\n",
       "      <td>BLR → DEL</td>\n",
       "      <td>2022-06-30 22:20:00</td>\n",
       "      <td>2022-03-22 01:10:00</td>\n",
       "      <td>2h 50m</td>\n",
       "      <td>non-stop</td>\n",
       "      <td>No info</td>\n",
       "      <td>3897</td>\n",
       "    </tr>\n",
       "    <tr>\n",
       "      <th>1</th>\n",
       "      <td>Air India</td>\n",
       "      <td>2019-01-05</td>\n",
       "      <td>Kolkata</td>\n",
       "      <td>Banglore</td>\n",
       "      <td>CCU → IXR → BBI → BLR</td>\n",
       "      <td>2022-06-30 05:50:00</td>\n",
       "      <td>2022-06-30 13:15:00</td>\n",
       "      <td>7h 25m</td>\n",
       "      <td>2 stops</td>\n",
       "      <td>No info</td>\n",
       "      <td>7662</td>\n",
       "    </tr>\n",
       "    <tr>\n",
       "      <th>2</th>\n",
       "      <td>Jet Airways</td>\n",
       "      <td>2019-09-06</td>\n",
       "      <td>Delhi</td>\n",
       "      <td>Cochin</td>\n",
       "      <td>DEL → LKO → BOM → COK</td>\n",
       "      <td>2022-06-30 09:25:00</td>\n",
       "      <td>2022-06-10 04:25:00</td>\n",
       "      <td>19h</td>\n",
       "      <td>2 stops</td>\n",
       "      <td>No info</td>\n",
       "      <td>13882</td>\n",
       "    </tr>\n",
       "    <tr>\n",
       "      <th>3</th>\n",
       "      <td>IndiGo</td>\n",
       "      <td>2019-12-05</td>\n",
       "      <td>Kolkata</td>\n",
       "      <td>Banglore</td>\n",
       "      <td>CCU → NAG → BLR</td>\n",
       "      <td>2022-06-30 18:05:00</td>\n",
       "      <td>2022-06-30 23:30:00</td>\n",
       "      <td>5h 25m</td>\n",
       "      <td>1 stop</td>\n",
       "      <td>No info</td>\n",
       "      <td>6218</td>\n",
       "    </tr>\n",
       "    <tr>\n",
       "      <th>4</th>\n",
       "      <td>IndiGo</td>\n",
       "      <td>2019-01-03</td>\n",
       "      <td>Banglore</td>\n",
       "      <td>New Delhi</td>\n",
       "      <td>BLR → NAG → DEL</td>\n",
       "      <td>2022-06-30 16:50:00</td>\n",
       "      <td>2022-06-30 21:35:00</td>\n",
       "      <td>4h 45m</td>\n",
       "      <td>1 stop</td>\n",
       "      <td>No info</td>\n",
       "      <td>13302</td>\n",
       "    </tr>\n",
       "  </tbody>\n",
       "</table>\n",
       "</div>"
      ],
      "text/plain": [
       "       Airline Date_of_Journey    Source Destination                  Route  \\\n",
       "0       IndiGo      2019-03-24  Banglore   New Delhi              BLR → DEL   \n",
       "1    Air India      2019-01-05   Kolkata    Banglore  CCU → IXR → BBI → BLR   \n",
       "2  Jet Airways      2019-09-06     Delhi      Cochin  DEL → LKO → BOM → COK   \n",
       "3       IndiGo      2019-12-05   Kolkata    Banglore        CCU → NAG → BLR   \n",
       "4       IndiGo      2019-01-03  Banglore   New Delhi        BLR → NAG → DEL   \n",
       "\n",
       "             Dep_Time        Arrival_Time Duration Total_Stops  \\\n",
       "0 2022-06-30 22:20:00 2022-03-22 01:10:00   2h 50m    non-stop   \n",
       "1 2022-06-30 05:50:00 2022-06-30 13:15:00   7h 25m     2 stops   \n",
       "2 2022-06-30 09:25:00 2022-06-10 04:25:00      19h     2 stops   \n",
       "3 2022-06-30 18:05:00 2022-06-30 23:30:00   5h 25m      1 stop   \n",
       "4 2022-06-30 16:50:00 2022-06-30 21:35:00   4h 45m      1 stop   \n",
       "\n",
       "  Additional_Info  Price  \n",
       "0         No info   3897  \n",
       "1         No info   7662  \n",
       "2         No info  13882  \n",
       "3         No info   6218  \n",
       "4         No info  13302  "
      ]
     },
     "execution_count": 2,
     "metadata": {},
     "output_type": "execute_result"
    }
   ],
   "source": [
    "data = pd.read_excel('Data_Train_Airline_Tickets.xlsx',\n",
    "                     converters= {'Date_of_Journey': pd.to_datetime,'Dep_Time':pd.to_datetime,\n",
    "                                  'Arrival_Time':pd.to_datetime})\n",
    "data.head()"
   ]
  },
  {
   "cell_type": "code",
   "execution_count": 3,
   "id": "15291bd1",
   "metadata": {},
   "outputs": [
    {
     "name": "stdout",
     "output_type": "stream",
     "text": [
      "<class 'pandas.core.frame.DataFrame'>\n",
      "RangeIndex: 10683 entries, 0 to 10682\n",
      "Data columns (total 11 columns):\n",
      " #   Column           Non-Null Count  Dtype         \n",
      "---  ------           --------------  -----         \n",
      " 0   Airline          10683 non-null  object        \n",
      " 1   Date_of_Journey  10683 non-null  datetime64[ns]\n",
      " 2   Source           10683 non-null  object        \n",
      " 3   Destination      10683 non-null  object        \n",
      " 4   Route            10682 non-null  object        \n",
      " 5   Dep_Time         10683 non-null  datetime64[ns]\n",
      " 6   Arrival_Time     10683 non-null  datetime64[ns]\n",
      " 7   Duration         10683 non-null  object        \n",
      " 8   Total_Stops      10682 non-null  object        \n",
      " 9   Additional_Info  10683 non-null  object        \n",
      " 10  Price            10683 non-null  int64         \n",
      "dtypes: datetime64[ns](3), int64(1), object(7)\n",
      "memory usage: 918.2+ KB\n"
     ]
    }
   ],
   "source": [
    "data.info()"
   ]
  },
  {
   "cell_type": "code",
   "execution_count": 4,
   "id": "81ec8cfb",
   "metadata": {},
   "outputs": [
    {
     "data": {
      "text/plain": [
       "220"
      ]
     },
     "execution_count": 4,
     "metadata": {},
     "output_type": "execute_result"
    }
   ],
   "source": [
    "data.duplicated().sum()"
   ]
  },
  {
   "cell_type": "code",
   "execution_count": 5,
   "id": "a64ec652",
   "metadata": {},
   "outputs": [],
   "source": [
    "data = data.drop_duplicates()"
   ]
  },
  {
   "cell_type": "code",
   "execution_count": 6,
   "id": "286bfd7d",
   "metadata": {},
   "outputs": [
    {
     "data": {
      "text/plain": [
       "(array([5.993e+03, 4.207e+03, 1.810e+02, 6.600e+01, 7.000e+00, 1.000e+00,\n",
       "        5.000e+00, 2.000e+00, 0.000e+00, 1.000e+00]),\n",
       " array([ 1759. ,  9534.3, 17309.6, 25084.9, 32860.2, 40635.5, 48410.8,\n",
       "        56186.1, 63961.4, 71736.7, 79512. ]),\n",
       " <BarContainer object of 10 artists>)"
      ]
     },
     "execution_count": 6,
     "metadata": {},
     "output_type": "execute_result"
    },
    {
     "data": {
      "image/png": "[encoded data removed]",
      "text/plain": [
       "<Figure size 432x288 with 1 Axes>"
      ]
     },
     "metadata": {
      "needs_background": "light"
     },
     "output_type": "display_data"
    }
   ],
   "source": [
    "plt.hist(data['Price'])"
   ]
  },
  {
   "cell_type": "code",
   "execution_count": 7,
   "id": "527b92cc",
   "metadata": {},
   "outputs": [
    {
     "data": {
      "text/html": [
       "<div>\n",
       "<style scoped>\n",
       "    .dataframe tbody tr th:only-of-type {\n",
       "        vertical-align: middle;\n",
       "    }\n",
       "\n",
       "    .dataframe tbody tr th {\n",
       "        vertical-align: top;\n",
       "    }\n",
       "\n",
       "    .dataframe thead th {\n",
       "        text-align: right;\n",
       "    }\n",
       "</style>\n",
       "<table border=\"1\" class=\"dataframe\">\n",
       "  <thead>\n",
       "    <tr style=\"text-align: right;\">\n",
       "      <th></th>\n",
       "      <th>Total</th>\n",
       "      <th>Percent %</th>\n",
       "    </tr>\n",
       "  </thead>\n",
       "  <tbody>\n",
       "    <tr>\n",
       "      <th>Route</th>\n",
       "      <td>1</td>\n",
       "      <td>0.01</td>\n",
       "    </tr>\n",
       "    <tr>\n",
       "      <th>Total_Stops</th>\n",
       "      <td>1</td>\n",
       "      <td>0.01</td>\n",
       "    </tr>\n",
       "  </tbody>\n",
       "</table>\n",
       "</div>"
      ],
      "text/plain": [
       "             Total  Percent %\n",
       "Route            1       0.01\n",
       "Total_Stops      1       0.01"
      ]
     },
     "execution_count": 7,
     "metadata": {},
     "output_type": "execute_result"
    }
   ],
   "source": [
    "#Check For Null Values\n",
    "total_missing = data.isnull().sum().sort_values(ascending= False)\n",
    "missing_percent = round((data.isnull().sum()/data.isnull().count()) * 100,3).sort_values(ascending= False)\n",
    "missing = pd.concat([total_missing,missing_percent], axis = 1, keys=['Total','Percent %'])\n",
    "missing[missing['Total']>0]"
   ]
  },
  {
   "cell_type": "code",
   "execution_count": 8,
   "id": "336f6b07",
   "metadata": {},
   "outputs": [
    {
     "data": {
      "text/html": [
       "<div>\n",
       "<style scoped>\n",
       "    .dataframe tbody tr th:only-of-type {\n",
       "        vertical-align: middle;\n",
       "    }\n",
       "\n",
       "    .dataframe tbody tr th {\n",
       "        vertical-align: top;\n",
       "    }\n",
       "\n",
       "    .dataframe thead th {\n",
       "        text-align: right;\n",
       "    }\n",
       "</style>\n",
       "<table border=\"1\" class=\"dataframe\">\n",
       "  <thead>\n",
       "    <tr style=\"text-align: right;\">\n",
       "      <th></th>\n",
       "      <th>Airline</th>\n",
       "      <th>Date_of_Journey</th>\n",
       "      <th>Source</th>\n",
       "      <th>Destination</th>\n",
       "      <th>Route</th>\n",
       "      <th>Dep_Time</th>\n",
       "      <th>Arrival_Time</th>\n",
       "      <th>Duration</th>\n",
       "      <th>Total_Stops</th>\n",
       "      <th>Additional_Info</th>\n",
       "      <th>Price</th>\n",
       "    </tr>\n",
       "  </thead>\n",
       "  <tbody>\n",
       "    <tr>\n",
       "      <th>9039</th>\n",
       "      <td>Air India</td>\n",
       "      <td>2019-06-05</td>\n",
       "      <td>Delhi</td>\n",
       "      <td>Cochin</td>\n",
       "      <td>NaN</td>\n",
       "      <td>2022-06-30 09:45:00</td>\n",
       "      <td>2022-05-07 09:25:00</td>\n",
       "      <td>23h 40m</td>\n",
       "      <td>NaN</td>\n",
       "      <td>No info</td>\n",
       "      <td>7480</td>\n",
       "    </tr>\n",
       "  </tbody>\n",
       "</table>\n",
       "</div>"
      ],
      "text/plain": [
       "        Airline Date_of_Journey Source Destination Route            Dep_Time  \\\n",
       "9039  Air India      2019-06-05  Delhi      Cochin   NaN 2022-06-30 09:45:00   \n",
       "\n",
       "            Arrival_Time Duration Total_Stops Additional_Info  Price  \n",
       "9039 2022-05-07 09:25:00  23h 40m         NaN         No info   7480  "
      ]
     },
     "execution_count": 8,
     "metadata": {},
     "output_type": "execute_result"
    }
   ],
   "source": [
    "data[data['Route'].isnull()]"
   ]
  },
  {
   "cell_type": "code",
   "execution_count": 9,
   "id": "c1c5581d",
   "metadata": {},
   "outputs": [],
   "source": [
    "data.dropna(inplace=True)"
   ]
  },
  {
   "cell_type": "markdown",
   "id": "5884852f",
   "metadata": {},
   "source": [
    "### Exploratory Data Alysis"
   ]
  },
  {
   "cell_type": "code",
   "execution_count": 10,
   "id": "c4b1d654",
   "metadata": {
    "scrolled": false
   },
   "outputs": [
    {
     "data": {
      "text/html": [
       "<div>\n",
       "<style scoped>\n",
       "    .dataframe tbody tr th:only-of-type {\n",
       "        vertical-align: middle;\n",
       "    }\n",
       "\n",
       "    .dataframe tbody tr th {\n",
       "        vertical-align: top;\n",
       "    }\n",
       "\n",
       "    .dataframe thead th {\n",
       "        text-align: right;\n",
       "    }\n",
       "</style>\n",
       "<table border=\"1\" class=\"dataframe\">\n",
       "  <thead>\n",
       "    <tr style=\"text-align: right;\">\n",
       "      <th></th>\n",
       "      <th>Duration</th>\n",
       "    </tr>\n",
       "  </thead>\n",
       "  <tbody>\n",
       "    <tr>\n",
       "      <th>2h 50m</th>\n",
       "      <td>544</td>\n",
       "    </tr>\n",
       "    <tr>\n",
       "      <th>1h 30m</th>\n",
       "      <td>386</td>\n",
       "    </tr>\n",
       "    <tr>\n",
       "      <th>2h 45m</th>\n",
       "      <td>335</td>\n",
       "    </tr>\n",
       "    <tr>\n",
       "      <th>2h 55m</th>\n",
       "      <td>332</td>\n",
       "    </tr>\n",
       "    <tr>\n",
       "      <th>2h 35m</th>\n",
       "      <td>329</td>\n",
       "    </tr>\n",
       "    <tr>\n",
       "      <th>...</th>\n",
       "      <td>...</td>\n",
       "    </tr>\n",
       "    <tr>\n",
       "      <th>30h 25m</th>\n",
       "      <td>1</td>\n",
       "    </tr>\n",
       "    <tr>\n",
       "      <th>30h 15m</th>\n",
       "      <td>1</td>\n",
       "    </tr>\n",
       "    <tr>\n",
       "      <th>42h 5m</th>\n",
       "      <td>1</td>\n",
       "    </tr>\n",
       "    <tr>\n",
       "      <th>28h 55m</th>\n",
       "      <td>1</td>\n",
       "    </tr>\n",
       "    <tr>\n",
       "      <th>47h 40m</th>\n",
       "      <td>1</td>\n",
       "    </tr>\n",
       "  </tbody>\n",
       "</table>\n",
       "<p>368 rows × 1 columns</p>\n",
       "</div>"
      ],
      "text/plain": [
       "         Duration\n",
       "2h 50m        544\n",
       "1h 30m        386\n",
       "2h 45m        335\n",
       "2h 55m        332\n",
       "2h 35m        329\n",
       "...           ...\n",
       "30h 25m         1\n",
       "30h 15m         1\n",
       "42h 5m          1\n",
       "28h 55m         1\n",
       "47h 40m         1\n",
       "\n",
       "[368 rows x 1 columns]"
      ]
     },
     "execution_count": 10,
     "metadata": {},
     "output_type": "execute_result"
    }
   ],
   "source": [
    "# Dsicover Duration Column\n",
    "data['Duration'].value_counts().to_frame()"
   ]
  },
  {
   "cell_type": "code",
   "execution_count": 11,
   "id": "80f67d29",
   "metadata": {},
   "outputs": [],
   "source": [
    "# Split Date Columns into Some Columns with Useful Info to dealing with it\n",
    "data['Jrn_day']=data['Date_of_Journey'].dt.day\n",
    "data['Jrn_month']=data['Date_of_Journey'].dt.month\n",
    "data['Jrn_year']=data['Date_of_Journey'].dt.year\n",
    "data['Dep_hr']=data['Dep_Time'].dt.hour\n",
    "data['Dep_min']=data['Dep_Time'].dt.minute\n",
    "data['Arv_hr']=data['Arrival_Time'].dt.hour\n",
    "data['Arv_min']=data['Arrival_Time'].dt.minute"
   ]
  },
  {
   "cell_type": "code",
   "execution_count": 12,
   "id": "c811111e",
   "metadata": {},
   "outputs": [],
   "source": [
    "# Split Duration Column into Hours and munutes\n",
    "data['Dur_hr'] = data['Duration'].str.extract('(\\d+)h', expand=False).astype(float)\n",
    "data['Dur_hr'] = data['Dur_hr'].fillna(0)\n",
    "data['Dur_min']= data['Duration'].str.extract('(\\d+)m', expand=False).astype(float)\n",
    "data['Dur_min']= data['Dur_min'].fillna(0)\n",
    "data.drop(['Duration'],axis=1,inplace=True)"
   ]
  },
  {
   "cell_type": "code",
   "execution_count": 13,
   "id": "7a99cc4c",
   "metadata": {},
   "outputs": [
    {
     "data": {
      "text/html": [
       "<div>\n",
       "<style scoped>\n",
       "    .dataframe tbody tr th:only-of-type {\n",
       "        vertical-align: middle;\n",
       "    }\n",
       "\n",
       "    .dataframe tbody tr th {\n",
       "        vertical-align: top;\n",
       "    }\n",
       "\n",
       "    .dataframe thead th {\n",
       "        text-align: right;\n",
       "    }\n",
       "</style>\n",
       "<table border=\"1\" class=\"dataframe\">\n",
       "  <thead>\n",
       "    <tr style=\"text-align: right;\">\n",
       "      <th></th>\n",
       "      <th>Airline</th>\n",
       "      <th>Source</th>\n",
       "      <th>Destination</th>\n",
       "      <th>Route</th>\n",
       "      <th>Total_Stops</th>\n",
       "      <th>Additional_Info</th>\n",
       "      <th>Price</th>\n",
       "      <th>Jrn_day</th>\n",
       "      <th>Jrn_month</th>\n",
       "      <th>Jrn_year</th>\n",
       "      <th>Dep_hr</th>\n",
       "      <th>Dep_min</th>\n",
       "      <th>Arv_hr</th>\n",
       "      <th>Arv_min</th>\n",
       "      <th>Dur_hr</th>\n",
       "      <th>Dur_min</th>\n",
       "    </tr>\n",
       "  </thead>\n",
       "  <tbody>\n",
       "    <tr>\n",
       "      <th>0</th>\n",
       "      <td>IndiGo</td>\n",
       "      <td>Banglore</td>\n",
       "      <td>New Delhi</td>\n",
       "      <td>BLR → DEL</td>\n",
       "      <td>non-stop</td>\n",
       "      <td>No info</td>\n",
       "      <td>3897</td>\n",
       "      <td>24</td>\n",
       "      <td>3</td>\n",
       "      <td>2019</td>\n",
       "      <td>22</td>\n",
       "      <td>20</td>\n",
       "      <td>1</td>\n",
       "      <td>10</td>\n",
       "      <td>2.0</td>\n",
       "      <td>50.0</td>\n",
       "    </tr>\n",
       "    <tr>\n",
       "      <th>1</th>\n",
       "      <td>Air India</td>\n",
       "      <td>Kolkata</td>\n",
       "      <td>Banglore</td>\n",
       "      <td>CCU → IXR → BBI → BLR</td>\n",
       "      <td>2 stops</td>\n",
       "      <td>No info</td>\n",
       "      <td>7662</td>\n",
       "      <td>5</td>\n",
       "      <td>1</td>\n",
       "      <td>2019</td>\n",
       "      <td>5</td>\n",
       "      <td>50</td>\n",
       "      <td>13</td>\n",
       "      <td>15</td>\n",
       "      <td>7.0</td>\n",
       "      <td>25.0</td>\n",
       "    </tr>\n",
       "    <tr>\n",
       "      <th>2</th>\n",
       "      <td>Jet Airways</td>\n",
       "      <td>Delhi</td>\n",
       "      <td>Cochin</td>\n",
       "      <td>DEL → LKO → BOM → COK</td>\n",
       "      <td>2 stops</td>\n",
       "      <td>No info</td>\n",
       "      <td>13882</td>\n",
       "      <td>6</td>\n",
       "      <td>9</td>\n",
       "      <td>2019</td>\n",
       "      <td>9</td>\n",
       "      <td>25</td>\n",
       "      <td>4</td>\n",
       "      <td>25</td>\n",
       "      <td>19.0</td>\n",
       "      <td>0.0</td>\n",
       "    </tr>\n",
       "    <tr>\n",
       "      <th>3</th>\n",
       "      <td>IndiGo</td>\n",
       "      <td>Kolkata</td>\n",
       "      <td>Banglore</td>\n",
       "      <td>CCU → NAG → BLR</td>\n",
       "      <td>1 stop</td>\n",
       "      <td>No info</td>\n",
       "      <td>6218</td>\n",
       "      <td>5</td>\n",
       "      <td>12</td>\n",
       "      <td>2019</td>\n",
       "      <td>18</td>\n",
       "      <td>5</td>\n",
       "      <td>23</td>\n",
       "      <td>30</td>\n",
       "      <td>5.0</td>\n",
       "      <td>25.0</td>\n",
       "    </tr>\n",
       "    <tr>\n",
       "      <th>4</th>\n",
       "      <td>IndiGo</td>\n",
       "      <td>Banglore</td>\n",
       "      <td>New Delhi</td>\n",
       "      <td>BLR → NAG → DEL</td>\n",
       "      <td>1 stop</td>\n",
       "      <td>No info</td>\n",
       "      <td>13302</td>\n",
       "      <td>3</td>\n",
       "      <td>1</td>\n",
       "      <td>2019</td>\n",
       "      <td>16</td>\n",
       "      <td>50</td>\n",
       "      <td>21</td>\n",
       "      <td>35</td>\n",
       "      <td>4.0</td>\n",
       "      <td>45.0</td>\n",
       "    </tr>\n",
       "  </tbody>\n",
       "</table>\n",
       "</div>"
      ],
      "text/plain": [
       "       Airline    Source Destination                  Route Total_Stops  \\\n",
       "0       IndiGo  Banglore   New Delhi              BLR → DEL    non-stop   \n",
       "1    Air India   Kolkata    Banglore  CCU → IXR → BBI → BLR     2 stops   \n",
       "2  Jet Airways     Delhi      Cochin  DEL → LKO → BOM → COK     2 stops   \n",
       "3       IndiGo   Kolkata    Banglore        CCU → NAG → BLR      1 stop   \n",
       "4       IndiGo  Banglore   New Delhi        BLR → NAG → DEL      1 stop   \n",
       "\n",
       "  Additional_Info  Price  Jrn_day  Jrn_month  Jrn_year  Dep_hr  Dep_min  \\\n",
       "0         No info   3897       24          3      2019      22       20   \n",
       "1         No info   7662        5          1      2019       5       50   \n",
       "2         No info  13882        6          9      2019       9       25   \n",
       "3         No info   6218        5         12      2019      18        5   \n",
       "4         No info  13302        3          1      2019      16       50   \n",
       "\n",
       "   Arv_hr  Arv_min  Dur_hr  Dur_min  \n",
       "0       1       10     2.0     50.0  \n",
       "1      13       15     7.0     25.0  \n",
       "2       4       25    19.0      0.0  \n",
       "3      23       30     5.0     25.0  \n",
       "4      21       35     4.0     45.0  "
      ]
     },
     "execution_count": 13,
     "metadata": {},
     "output_type": "execute_result"
    }
   ],
   "source": [
    "#Drop Unneeded\n",
    "data.drop(['Date_of_Journey','Dep_Time','Arrival_Time'],axis=1,inplace=True)\n",
    "data.head()"
   ]
  },
  {
   "cell_type": "code",
   "execution_count": 14,
   "id": "59dace71",
   "metadata": {},
   "outputs": [
    {
     "name": "stdout",
     "output_type": "stream",
     "text": [
      "<class 'pandas.core.frame.DataFrame'>\n",
      "Int64Index: 10462 entries, 0 to 10682\n",
      "Data columns (total 16 columns):\n",
      " #   Column           Non-Null Count  Dtype  \n",
      "---  ------           --------------  -----  \n",
      " 0   Airline          10462 non-null  object \n",
      " 1   Source           10462 non-null  object \n",
      " 2   Destination      10462 non-null  object \n",
      " 3   Route            10462 non-null  object \n",
      " 4   Total_Stops      10462 non-null  object \n",
      " 5   Additional_Info  10462 non-null  object \n",
      " 6   Price            10462 non-null  int64  \n",
      " 7   Jrn_day          10462 non-null  int64  \n",
      " 8   Jrn_month        10462 non-null  int64  \n",
      " 9   Jrn_year         10462 non-null  int64  \n",
      " 10  Dep_hr           10462 non-null  int64  \n",
      " 11  Dep_min          10462 non-null  int64  \n",
      " 12  Arv_hr           10462 non-null  int64  \n",
      " 13  Arv_min          10462 non-null  int64  \n",
      " 14  Dur_hr           10462 non-null  float64\n",
      " 15  Dur_min          10462 non-null  float64\n",
      "dtypes: float64(2), int64(8), object(6)\n",
      "memory usage: 1.4+ MB\n"
     ]
    }
   ],
   "source": [
    "data.info()"
   ]
  },
  {
   "cell_type": "code",
   "execution_count": 15,
   "id": "393ab644",
   "metadata": {},
   "outputs": [
    {
     "name": "stdout",
     "output_type": "stream",
     "text": [
      "Category Features: \n",
      "\n",
      "   Index(['Airline', 'Source', 'Destination', 'Route', 'Total_Stops',\n",
      "       'Additional_Info'],\n",
      "      dtype='object') \n",
      "\n",
      "---------------------------------------------------------------------------------------------------- \n",
      "\n",
      "Continuous Features: \n",
      "\n",
      "   Index(['Price', 'Jrn_day', 'Jrn_month', 'Jrn_year', 'Dep_hr', 'Dep_min',\n",
      "       'Arv_hr', 'Arv_min', 'Dur_hr', 'Dur_min'],\n",
      "      dtype='object')\n"
     ]
    }
   ],
   "source": [
    "# Get Object and Numeric Columns\n",
    "Categories =data.columns[data.dtypes=='object']\n",
    "Continuous =data.columns[data.dtypes!='object']\n",
    "print('Category Features: \\n\\n   {0} \\n\\n{2} \\n\\nContinuous Features: \\n\\n   {1}'.format(Categories,Continuous,'-'*100))"
   ]
  },
  {
   "cell_type": "code",
   "execution_count": 16,
   "id": "01b251a1",
   "metadata": {
    "scrolled": true
   },
   "outputs": [
    {
     "name": "stdout",
     "output_type": "stream",
     "text": [
      "Airline Values\n",
      "\n",
      "Jet Airways                          3700\n",
      "IndiGo                               2043\n",
      "Air India                            1694\n",
      "Multiple carriers                    1196\n",
      "SpiceJet                              815\n",
      "Vistara                               478\n",
      "Air Asia                              319\n",
      "GoAir                                 194\n",
      "Multiple carriers Premium economy      13\n",
      "Jet Airways Business                    6\n",
      "Vistara Premium economy                 3\n",
      "Trujet                                  1\n",
      "Name: Airline, dtype: int64\n",
      "-------------------------------------------------- \n",
      "\n",
      "Source Values\n",
      "\n",
      "Delhi       4345\n",
      "Kolkata     2860\n",
      "Banglore    2179\n",
      "Mumbai       697\n",
      "Chennai      381\n",
      "Name: Source, dtype: int64\n",
      "-------------------------------------------------- \n",
      "\n",
      "Destination Values\n",
      "\n",
      "Cochin       4345\n",
      "Banglore     2860\n",
      "Delhi        1265\n",
      "New Delhi     914\n",
      "Hyderabad     697\n",
      "Kolkata       381\n",
      "Name: Destination, dtype: int64\n",
      "-------------------------------------------------- \n",
      "\n",
      "Route Values\n",
      "\n",
      "DEL → BOM → COK          2376\n",
      "BLR → DEL                1536\n",
      "CCU → BOM → BLR           979\n",
      "CCU → BLR                 724\n",
      "BOM → HYD                 621\n",
      "                         ... \n",
      "CCU → VTZ → BLR             1\n",
      "CCU → IXZ → MAA → BLR       1\n",
      "BOM → COK → MAA → HYD       1\n",
      "BOM → CCU → HYD             1\n",
      "BOM → BBI → HYD             1\n",
      "Name: Route, Length: 128, dtype: int64\n",
      "-------------------------------------------------- \n",
      "\n",
      "Total_Stops Values\n",
      "\n",
      "1 stop      5625\n",
      "non-stop    3475\n",
      "2 stops     1318\n",
      "3 stops       43\n",
      "4 stops        1\n",
      "Name: Total_Stops, dtype: int64\n",
      "-------------------------------------------------- \n",
      "\n",
      "Additional_Info Values\n",
      "\n",
      "No info                         8182\n",
      "In-flight meal not included     1926\n",
      "No check-in baggage included     318\n",
      "1 Long layover                    19\n",
      "Change airports                    7\n",
      "Business class                     4\n",
      "No Info                            3\n",
      "1 Short layover                    1\n",
      "Red-eye flight                     1\n",
      "2 Long layover                     1\n",
      "Name: Additional_Info, dtype: int64\n",
      "-------------------------------------------------- \n",
      "\n"
     ]
    }
   ],
   "source": [
    "# Display Count of each category for each Object Columns\n",
    "for col in Categories:\n",
    "    Catg_value=data[col].value_counts()\n",
    "    print(col,'Values\\n')\n",
    "    print('{}\\n{} \\n'.format(Catg_value,'-'*50))"
   ]
  },
  {
   "cell_type": "code",
   "execution_count": 17,
   "id": "d757ea84",
   "metadata": {
    "scrolled": true
   },
   "outputs": [
    {
     "data": {
      "image/png": "[encoded data removed]",
      "text/plain": [
       "<Figure size 1080x360 with 1 Axes>"
      ]
     },
     "metadata": {
      "needs_background": "light"
     },
     "output_type": "display_data"
    },
    {
     "data": {
      "image/png": "[encoded data removed]",
      "text/plain": [
       "<Figure size 1080x288 with 1 Axes>"
      ]
     },
     "metadata": {
      "needs_background": "light"
     },
     "output_type": "display_data"
    },
    {
     "data": {
      "image/png": "[encoded data removed]",
      "text/plain": [
       "<Figure size 1080x288 with 1 Axes>"
      ]
     },
     "metadata": {
      "needs_background": "light"
     },
     "output_type": "display_data"
    },
    {
     "data": {
      "image/png": "[encoded data removed]",
      "text/plain": [
       "<Figure size 1080x288 with 1 Axes>"
      ]
     },
     "metadata": {
      "needs_background": "light"
     },
     "output_type": "display_data"
    }
   ],
   "source": [
    "# Plotting Categories Data to get useful vision of data\n",
    "for col in Categories:\n",
    "    \n",
    "    if col =='Airline':\n",
    "        plt.figure(figsize=(15,5))\n",
    "        ax=sns.boxplot(col,'Price' ,data=data.sort_values('Price',ascending = False),palette='Blues_d')\n",
    "        ax.set_title(col+' Distribution')\n",
    "        plt.xticks(rotation=30,fontsize=10)\n",
    "        plt.show()\n",
    "        \n",
    "    elif (col !='Airline' and col !='Route'and col !='Additional_Info'):\n",
    "        \n",
    "        plt.figure(figsize=(15,4))\n",
    "        ax=sns.countplot(col, data=data,palette='Blues_d')\n",
    "        ax.set_title(col+' Distribution')\n",
    "        plt.xticks(fontsize=10)\n",
    "        plt.show()"
   ]
  },
  {
   "cell_type": "code",
   "execution_count": 18,
   "id": "51f19d72",
   "metadata": {},
   "outputs": [],
   "source": [
    "# Dropping unusful columns\n",
    "data.drop([\"Route\", \"Additional_Info\"], axis = 1, inplace = True)"
   ]
  },
  {
   "cell_type": "code",
   "execution_count": 19,
   "id": "661820bb",
   "metadata": {},
   "outputs": [],
   "source": [
    "# Relationships between Features\n",
    "# sns.heatmap(data.corr(),annot=True,linewidths=0.2)\n",
    "# fig=plt.gcf()\n",
    "# fig.set_size_inches(12,8)\n",
    "# plt.show()"
   ]
  },
  {
   "cell_type": "markdown",
   "id": "dbd47aca",
   "metadata": {},
   "source": [
    "### Preparing Data For Modeling"
   ]
  },
  {
   "cell_type": "code",
   "execution_count": 20,
   "id": "6b6f018c",
   "metadata": {},
   "outputs": [
    {
     "data": {
      "text/html": [
       "<div>\n",
       "<style scoped>\n",
       "    .dataframe tbody tr th:only-of-type {\n",
       "        vertical-align: middle;\n",
       "    }\n",
       "\n",
       "    .dataframe tbody tr th {\n",
       "        vertical-align: top;\n",
       "    }\n",
       "\n",
       "    .dataframe thead th {\n",
       "        text-align: right;\n",
       "    }\n",
       "</style>\n",
       "<table border=\"1\" class=\"dataframe\">\n",
       "  <thead>\n",
       "    <tr style=\"text-align: right;\">\n",
       "      <th></th>\n",
       "      <th>Airline</th>\n",
       "      <th>Source</th>\n",
       "      <th>Destination</th>\n",
       "      <th>Total_Stops</th>\n",
       "      <th>Price</th>\n",
       "      <th>Jrn_day</th>\n",
       "      <th>Jrn_month</th>\n",
       "      <th>Jrn_year</th>\n",
       "      <th>Dep_hr</th>\n",
       "      <th>Dep_min</th>\n",
       "      <th>Arv_hr</th>\n",
       "      <th>Arv_min</th>\n",
       "      <th>Dur_hr</th>\n",
       "      <th>Dur_min</th>\n",
       "    </tr>\n",
       "  </thead>\n",
       "  <tbody>\n",
       "    <tr>\n",
       "      <th>0</th>\n",
       "      <td>3</td>\n",
       "      <td>0</td>\n",
       "      <td>5</td>\n",
       "      <td>0</td>\n",
       "      <td>3897</td>\n",
       "      <td>24</td>\n",
       "      <td>3</td>\n",
       "      <td>2019</td>\n",
       "      <td>22</td>\n",
       "      <td>20</td>\n",
       "      <td>1</td>\n",
       "      <td>10</td>\n",
       "      <td>2.0</td>\n",
       "      <td>50.0</td>\n",
       "    </tr>\n",
       "    <tr>\n",
       "      <th>1</th>\n",
       "      <td>1</td>\n",
       "      <td>3</td>\n",
       "      <td>0</td>\n",
       "      <td>2</td>\n",
       "      <td>7662</td>\n",
       "      <td>5</td>\n",
       "      <td>1</td>\n",
       "      <td>2019</td>\n",
       "      <td>5</td>\n",
       "      <td>50</td>\n",
       "      <td>13</td>\n",
       "      <td>15</td>\n",
       "      <td>7.0</td>\n",
       "      <td>25.0</td>\n",
       "    </tr>\n",
       "    <tr>\n",
       "      <th>2</th>\n",
       "      <td>4</td>\n",
       "      <td>2</td>\n",
       "      <td>1</td>\n",
       "      <td>2</td>\n",
       "      <td>13882</td>\n",
       "      <td>6</td>\n",
       "      <td>9</td>\n",
       "      <td>2019</td>\n",
       "      <td>9</td>\n",
       "      <td>25</td>\n",
       "      <td>4</td>\n",
       "      <td>25</td>\n",
       "      <td>19.0</td>\n",
       "      <td>0.0</td>\n",
       "    </tr>\n",
       "    <tr>\n",
       "      <th>3</th>\n",
       "      <td>3</td>\n",
       "      <td>3</td>\n",
       "      <td>0</td>\n",
       "      <td>1</td>\n",
       "      <td>6218</td>\n",
       "      <td>5</td>\n",
       "      <td>12</td>\n",
       "      <td>2019</td>\n",
       "      <td>18</td>\n",
       "      <td>5</td>\n",
       "      <td>23</td>\n",
       "      <td>30</td>\n",
       "      <td>5.0</td>\n",
       "      <td>25.0</td>\n",
       "    </tr>\n",
       "    <tr>\n",
       "      <th>4</th>\n",
       "      <td>3</td>\n",
       "      <td>0</td>\n",
       "      <td>5</td>\n",
       "      <td>1</td>\n",
       "      <td>13302</td>\n",
       "      <td>3</td>\n",
       "      <td>1</td>\n",
       "      <td>2019</td>\n",
       "      <td>16</td>\n",
       "      <td>50</td>\n",
       "      <td>21</td>\n",
       "      <td>35</td>\n",
       "      <td>4.0</td>\n",
       "      <td>45.0</td>\n",
       "    </tr>\n",
       "  </tbody>\n",
       "</table>\n",
       "</div>"
      ],
      "text/plain": [
       "   Airline  Source  Destination  Total_Stops  Price  Jrn_day  Jrn_month  \\\n",
       "0        3       0            5            0   3897       24          3   \n",
       "1        1       3            0            2   7662        5          1   \n",
       "2        4       2            1            2  13882        6          9   \n",
       "3        3       3            0            1   6218        5         12   \n",
       "4        3       0            5            1  13302        3          1   \n",
       "\n",
       "   Jrn_year  Dep_hr  Dep_min  Arv_hr  Arv_min  Dur_hr  Dur_min  \n",
       "0      2019      22       20       1       10     2.0     50.0  \n",
       "1      2019       5       50      13       15     7.0     25.0  \n",
       "2      2019       9       25       4       25    19.0      0.0  \n",
       "3      2019      18        5      23       30     5.0     25.0  \n",
       "4      2019      16       50      21       35     4.0     45.0  "
      ]
     },
     "execution_count": 20,
     "metadata": {},
     "output_type": "execute_result"
    }
   ],
   "source": [
    "# dealing with Categorical Data\n",
    "\n",
    "# Assign new value for each category in Total_Stops Column\n",
    "data.replace({\"non-stop\": 0, \"1 stop\": 1, \"2 stops\": 2, \"3 stops\": 3, \"4 stops\": 4}, inplace = True)\n",
    "# Covert Other Categories data with Label Encoder Technique\n",
    "categorical = data.select_dtypes(include=['object'])\n",
    "for col in categorical.columns:\n",
    "    Encoder = LabelEncoder()\n",
    "    Encoder.fit(data[col])\n",
    "    data[col] = Encoder.transform(data[col])\n",
    "# data=pd.get_dummies(data, drop_first = True)\n",
    "# Display Data after Encoding\n",
    "data.head()"
   ]
  },
  {
   "cell_type": "code",
   "execution_count": 21,
   "id": "71af58ad",
   "metadata": {},
   "outputs": [
    {
     "data": {
      "text/plain": [
       "(10462, 14)"
      ]
     },
     "execution_count": 21,
     "metadata": {},
     "output_type": "execute_result"
    }
   ],
   "source": [
    "#shape of data\n",
    "data.shape"
   ]
  },
  {
   "cell_type": "code",
   "execution_count": 22,
   "id": "77785de5",
   "metadata": {},
   "outputs": [],
   "source": [
    "# Split Data into features and label\n",
    "train=data.drop('Price',axis=1)\n",
    "label = pd.DataFrame(data['Price'])"
   ]
  },
  {
   "cell_type": "code",
   "execution_count": 23,
   "id": "c2218cbb",
   "metadata": {},
   "outputs": [],
   "source": [
    "# Spliting data by using train_test_split technique\n",
    "X_train, X_test, y_train, y_test = train_test_split(train, label, test_size = 0.2, random_state = 42)"
   ]
  },
  {
   "cell_type": "code",
   "execution_count": 24,
   "id": "63b554ed",
   "metadata": {},
   "outputs": [],
   "source": [
    "# Scaling Data with Normalization Technique\n",
    "scaler_x = MinMaxScaler().fit(X_train)\n",
    "scaler_y = MinMaxScaler().fit(y_train)\n",
    "x_train_sc = scaler_x.transform(X_train)\n",
    "x_test_sc = scaler_x.transform(X_test)\n",
    "y_train_sc = scaler_y.transform(y_train)\n",
    "y_test_sc = scaler_y.transform(y_test)"
   ]
  },
  {
   "cell_type": "code",
   "execution_count": 25,
   "id": "f5225e31",
   "metadata": {},
   "outputs": [
    {
     "name": "stdout",
     "output_type": "stream",
     "text": [
      "MAE =  0.0319\n",
      "MSE =  0.002\n",
      "RMSE =  0.0442\n"
     ]
    }
   ],
   "source": [
    "# Fit Linear Regression Model\n",
    "lr_model = LinearRegression()\n",
    "lr_model.fit(x_train_sc, y_train_sc)\n",
    "y_pred_sc = lr_model.predict(x_test_sc)\n",
    "mae = mean_absolute_error(y_test_sc, y_pred_sc)\n",
    "mse = mean_squared_error(y_test_sc, y_pred_sc)\n",
    "rmse = np.sqrt(mean_squared_error(y_test_sc, y_pred_sc))\n",
    "\n",
    "# Errors\n",
    "print('MAE = ', mae.round(4))\n",
    "print('MSE = ', mse.round(4))\n",
    "print('RMSE = ', rmse.round(4))"
   ]
  },
  {
   "cell_type": "code",
   "execution_count": 29,
   "id": "63fd6f4b",
   "metadata": {},
   "outputs": [
    {
     "name": "stdout",
     "output_type": "stream",
     "text": [
      "Actual MAE =  2480\n",
      "Actual RMSE =  3440\n"
     ]
    }
   ],
   "source": [
    "# Inverse Scaler to get original data\n",
    "y_test_inv = scaler_y.inverse_transform(y_test_sc.reshape(-1,1))\n",
    "y_pred_inv = scaler_y.inverse_transform(y_pred_sc.reshape(-1,1))\n",
    "\n",
    "actual_mae = mean_absolute_error(y_test_inv, y_pred_inv)\n",
    "actual_rmse = np.sqrt(mean_squared_error(y_test_inv, y_pred_inv))\n",
    "\n",
    "print('Actual MAE = ', int(actual_mae))\n",
    "print('Actual RMSE = ', int(actual_rmse))"
   ]
  },
  {
   "cell_type": "code",
   "execution_count": 27,
   "id": "42a1a7ef",
   "metadata": {},
   "outputs": [
    {
     "name": "stdout",
     "output_type": "stream",
     "text": [
      "Train Acc:  89.07\n",
      "Test Acc :  81.01\n",
      "R2_Score : 81.01\n"
     ]
    }
   ],
   "source": [
    "# Fit Random Forest Regrissor Model\n",
    "RF_Model = RandomForestRegressor(n_estimators=900,min_samples_split=12,max_depth=20)\n",
    "RF_Model.fit(X_train, y_train)\n",
    "Predictions = RF_Model.predict(X_test)\n",
    "print('Train Acc: ',round(RF_Model.score(X_train, y_train)*100,2))\n",
    "print('Test Acc : ',round(RF_Model.score(X_test, y_test)*100,2))\n",
    "print('R2_Score :', round(metrics.r2_score(y_test, Predictions)*100,2))"
   ]
  },
  {
   "cell_type": "code",
   "execution_count": null,
   "id": "08f25462",
   "metadata": {},
   "outputs": [],
   "source": []
  }
 ],
 "metadata": {
  "kernelspec": {
   "display_name": "Python 3 (ipykernel)",
   "language": "python",
   "name": "python3"
  },
  "language_info": {
   "codemirror_mode": {
    "name": "ipython",
    "version": 3
   },
   "file_extension": ".py",
   "mimetype": "text/x-python",
   "name": "python",
   "nbconvert_exporter": "python",
   "pygments_lexer": "ipython3",
   "version": "3.9.7"
  }
 },
 "nbformat": 4,
 "nbformat_minor": 5
}
